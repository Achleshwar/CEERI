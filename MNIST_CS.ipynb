{
  "nbformat": 4,
  "nbformat_minor": 0,
  "metadata": {
    "colab": {
      "name": "MNIST-CS.ipynb",
      "provenance": []
    },
    "kernelspec": {
      "name": "python3",
      "display_name": "Python 3"
    }
  },
  "cells": [
    {
      "cell_type": "markdown",
      "metadata": {
        "id": "K3pO-HjoS7-i"
      },
      "source": [
        "## Import Libraries and Load Data"
      ]
    },
    {
      "cell_type": "code",
      "metadata": {
        "id": "-WwtzMBIjb6c"
      },
      "source": [
        "import tensorflow as tf\r\n",
        "import numpy as np\r\n",
        "import cv2"
      ],
      "execution_count": 1,
      "outputs": []
    },
    {
      "cell_type": "code",
      "metadata": {
        "id": "LyBkgTk8ZyI8"
      },
      "source": [
        "from google.colab.patches import cv2_imshow"
      ],
      "execution_count": 2,
      "outputs": []
    },
    {
      "cell_type": "code",
      "metadata": {
        "id": "nLPCiq-RZPNc"
      },
      "source": [
        "(X_train, y_train) , (X_test, y_test) = tf.keras.datasets.mnist.load_data(path='mnist.npz')"
      ],
      "execution_count": 9,
      "outputs": []
    },
    {
      "cell_type": "code",
      "metadata": {
        "colab": {
          "base_uri": "https://localhost:8080/",
          "height": 45
        },
        "id": "FbjzyNTbZjm_",
        "outputId": "cc32e810-ff08-487f-bc23-6c6c0d122e78"
      },
      "source": [
        "cv2_imshow(X_train[0])"
      ],
      "execution_count": 4,
      "outputs": [
        {
          "output_type": "display_data",
          "data": {
            "image/png": "[encoded data removed]",
            "text/plain": [
              "<PIL.Image.Image image mode=L size=28x28 at 0x7FA3AA5B4CF8>"
            ]
          },
          "metadata": {
            "tags": []
          }
        }
      ]
    },
    {
      "cell_type": "code",
      "metadata": {
        "colab": {
          "base_uri": "https://localhost:8080/"
        },
        "id": "U4f-Ykx_aDyC",
        "outputId": "d22de1dc-003f-461d-8597-90f139e8b5f0"
      },
      "source": [
        "X_train.shape"
      ],
      "execution_count": 5,
      "outputs": [
        {
          "output_type": "execute_result",
          "data": {
            "text/plain": [
              "(60000, 28, 28)"
            ]
          },
          "metadata": {
            "tags": []
          },
          "execution_count": 5
        }
      ]
    },
    {
      "cell_type": "markdown",
      "metadata": {
        "id": "4p5BuFdw4eKQ"
      },
      "source": [
        "## Reduce image size to 20x20 for BCS"
      ]
    },
    {
      "cell_type": "code",
      "metadata": {
        "id": "-mRBnN_wbhpG"
      },
      "source": [
        "X_train_red = np.zeros((60000, 20, 20))\r\n",
        "for i in range(len(X_train)):\r\n",
        "  X_train_red[i] = cv2.resize(X_train[i], (20,20))"
      ],
      "execution_count": 11,
      "outputs": []
    },
    {
      "cell_type": "code",
      "metadata": {
        "colab": {
          "base_uri": "https://localhost:8080/",
          "height": 37
        },
        "id": "sxFFSv2Z5Tu9",
        "outputId": "7281d9af-7d33-4132-c12e-0b708a95e7fe"
      },
      "source": [
        "cv2_imshow(X_train_red[0])"
      ],
      "execution_count": 12,
      "outputs": [
        {
          "output_type": "display_data",
          "data": {
            "image/png": "[encoded data removed]",
            "text/plain": [
              "<PIL.Image.Image image mode=L size=20x20 at 0x7FA3A2B242E8>"
            ]
          },
          "metadata": {
            "tags": []
          }
        }
      ]
    },
    {
      "cell_type": "code",
      "metadata": {
        "colab": {
          "base_uri": "https://localhost:8080/"
        },
        "id": "K-co9czK5x6A",
        "outputId": "b5516080-b2cd-4e95-f27d-7afb7d03d723"
      },
      "source": [
        "X_train_red.shape"
      ],
      "execution_count": 13,
      "outputs": [
        {
          "output_type": "execute_result",
          "data": {
            "text/plain": [
              "(60000, 20, 20)"
            ]
          },
          "metadata": {
            "tags": []
          },
          "execution_count": 13
        }
      ]
    },
    {
      "cell_type": "markdown",
      "metadata": {
        "id": "VTVEddrp5_Sa"
      },
      "source": [
        "## Define Architecture"
      ]
    },
    {
      "cell_type": "code",
      "metadata": {
        "id": "fbng9JuQ5-jZ"
      },
      "source": [
        "from tensorflow.keras.layers import Dense, Flatten, Input\r\n",
        "from tensorflow.keras.optimizers import Adagrad\r\n",
        "from tensorflow.keras.losses import MSE\r\n",
        "from tensorflow.keras.models import Model\r\n",
        "from tensorflow.keras import Sequential"
      ],
      "execution_count": 22,
      "outputs": []
    },
    {
      "cell_type": "code",
      "metadata": {
        "id": "Rbg4ipPi6UmW"
      },
      "source": [
        "model = Sequential([\r\n",
        "    Input(shape = (20,20)),\r\n",
        "    Flatten(),\r\n",
        "    Dense(400, activation='relu'), #20x20 image vector flattened [B^2 x 1 ] \r\n",
        "    Dense(40, activation = 'relu'), # B^2 x R where R = 0.1 (sampling rate)\r\n",
        "    Dense(1600, activation = 'relu'), #B^2 x T  where T = 4 (redundancy rate)\r\n",
        "    Dense(1600, activation = 'relu'), # we use total 2 reconstruction layers\r\n",
        "    Dense(400, activation = 'relu') #final output = B^2 x 1\r\n",
        "])"
      ],
      "execution_count": 24,
      "outputs": []
    },
    {
      "cell_type": "code",
      "metadata": {
        "id": "4hhWe0YM8GD9"
      },
      "source": [
        "model.compile(optimizer=Adagrad(learning_rate=0.005), loss= 'mse')"
      ],
      "execution_count": 25,
      "outputs": []
    },
    {
      "cell_type": "code",
      "metadata": {
        "colab": {
          "base_uri": "https://localhost:8080/"
        },
        "id": "yrQcfBSt8lz3",
        "outputId": "919d10e5-2cb9-4c42-fd61-ee740a7b310e"
      },
      "source": [
        "model.summary()"
      ],
      "execution_count": 26,
      "outputs": [
        {
          "output_type": "stream",
          "text": [
            "Model: \"sequential_1\"\n",
            "_________________________________________________________________\n",
            "Layer (type)                 Output Shape              Param #   \n",
            "=================================================================\n",
            "flatten_2 (Flatten)          (None, 400)               0         \n",
            "_________________________________________________________________\n",
            "dense_10 (Dense)             (None, 400)               160400    \n",
            "_________________________________________________________________\n",
            "dense_11 (Dense)             (None, 40)                16040     \n",
            "_________________________________________________________________\n",
            "dense_12 (Dense)             (None, 1600)              65600     \n",
            "_________________________________________________________________\n",
            "dense_13 (Dense)             (None, 1600)              2561600   \n",
            "_________________________________________________________________\n",
            "dense_14 (Dense)             (None, 400)               640400    \n",
            "=================================================================\n",
            "Total params: 3,444,040\n",
            "Trainable params: 3,444,040\n",
            "Non-trainable params: 0\n",
            "_________________________________________________________________\n"
          ],
          "name": "stdout"
        }
      ]
    },
    {
      "cell_type": "code",
      "metadata": {
        "id": "MgkFMkiN-b2O"
      },
      "source": [
        "y_train = X_train_red.reshape(60000, 400)"
      ],
      "execution_count": 28,
      "outputs": []
    },
    {
      "cell_type": "code",
      "metadata": {
        "colab": {
          "base_uri": "https://localhost:8080/"
        },
        "id": "yToOy7qA9XWR",
        "outputId": "3b3c5556-fd75-41d7-b6f0-17cb996fbe18"
      },
      "source": [
        "model.fit(X_train_red, y_train, epochs=100, batch_size=16)"
      ],
      "execution_count": 30,
      "outputs": [
        {
          "output_type": "stream",
          "text": [
            "Epoch 1/100\n",
            "3750/3750 [==============================] - 99s 26ms/step - loss: 594.9590\n",
            "Epoch 2/100\n",
            "3750/3750 [==============================] - 98s 26ms/step - loss: 551.9876\n",
            "Epoch 3/100\n",
            "3750/3750 [==============================] - 99s 26ms/step - loss: 530.3635\n",
            "Epoch 4/100\n",
            "3750/3750 [==============================] - 98s 26ms/step - loss: 516.1763\n",
            "Epoch 5/100\n",
            "3750/3750 [==============================] - 98s 26ms/step - loss: 505.5542\n",
            "Epoch 6/100\n",
            "3750/3750 [==============================] - 99s 27ms/step - loss: 497.2821\n",
            "Epoch 7/100\n",
            "3750/3750 [==============================] - 98s 26ms/step - loss: 490.5014\n",
            "Epoch 8/100\n",
            "3750/3750 [==============================] - 98s 26ms/step - loss: 484.7824\n",
            "Epoch 9/100\n",
            "3750/3750 [==============================] - 99s 26ms/step - loss: 479.8696\n",
            "Epoch 10/100\n",
            "3750/3750 [==============================] - 98s 26ms/step - loss: 475.6161\n",
            "Epoch 11/100\n",
            "3750/3750 [==============================] - 98s 26ms/step - loss: 471.7987\n",
            "Epoch 12/100\n",
            "3750/3750 [==============================] - 99s 26ms/step - loss: 468.4423\n",
            "Epoch 13/100\n",
            "3750/3750 [==============================] - 99s 26ms/step - loss: 465.4174\n",
            "Epoch 14/100\n",
            "3750/3750 [==============================] - 99s 26ms/step - loss: 462.6472\n",
            "Epoch 15/100\n",
            "3750/3750 [==============================] - 99s 26ms/step - loss: 460.1113\n",
            "Epoch 16/100\n",
            "3750/3750 [==============================] - 99s 26ms/step - loss: 457.7718\n",
            "Epoch 17/100\n",
            "3750/3750 [==============================] - 99s 26ms/step - loss: 455.6366\n",
            "Epoch 18/100\n",
            "3750/3750 [==============================] - 99s 26ms/step - loss: 453.6412\n",
            "Epoch 19/100\n",
            "3750/3750 [==============================] - 100s 27ms/step - loss: 451.7574\n",
            "Epoch 20/100\n",
            "3750/3750 [==============================] - 99s 26ms/step - loss: 449.9953\n",
            "Epoch 21/100\n",
            "3750/3750 [==============================] - 99s 26ms/step - loss: 448.3590\n",
            "Epoch 22/100\n",
            "3750/3750 [==============================] - 99s 26ms/step - loss: 446.7926\n",
            "Epoch 23/100\n",
            "3750/3750 [==============================] - 98s 26ms/step - loss: 445.3399\n",
            "Epoch 24/100\n",
            "3750/3750 [==============================] - 99s 26ms/step - loss: 443.9556\n",
            "Epoch 25/100\n",
            "3750/3750 [==============================] - 99s 26ms/step - loss: 442.6371\n",
            "Epoch 26/100\n",
            "3750/3750 [==============================] - 100s 27ms/step - loss: 441.4074\n",
            "Epoch 27/100\n",
            "3750/3750 [==============================] - 99s 26ms/step - loss: 440.2375\n",
            "Epoch 28/100\n",
            "3750/3750 [==============================] - 99s 26ms/step - loss: 439.0663\n",
            "Epoch 29/100\n",
            "3750/3750 [==============================] - 99s 26ms/step - loss: 438.0205\n",
            "Epoch 30/100\n",
            "3750/3750 [==============================] - 99s 26ms/step - loss: 436.9580\n",
            "Epoch 31/100\n",
            "3750/3750 [==============================] - 99s 26ms/step - loss: 435.9478\n",
            "Epoch 32/100\n",
            "3750/3750 [==============================] - 99s 26ms/step - loss: 434.9823\n",
            "Epoch 33/100\n",
            "3750/3750 [==============================] - 99s 26ms/step - loss: 434.0670\n",
            "Epoch 34/100\n",
            "3750/3750 [==============================] - 99s 26ms/step - loss: 433.2073\n",
            "Epoch 35/100\n",
            "3750/3750 [==============================] - 99s 26ms/step - loss: 432.3365\n",
            "Epoch 36/100\n",
            "3750/3750 [==============================] - 99s 26ms/step - loss: 431.5130\n",
            "Epoch 37/100\n",
            "3750/3750 [==============================] - 99s 26ms/step - loss: 430.7139\n",
            "Epoch 38/100\n",
            "3750/3750 [==============================] - 99s 26ms/step - loss: 429.9377\n",
            "Epoch 39/100\n",
            "3750/3750 [==============================] - 98s 26ms/step - loss: 429.1997\n",
            "Epoch 40/100\n",
            "3750/3750 [==============================] - 99s 26ms/step - loss: 428.4830\n",
            "Epoch 41/100\n",
            "3750/3750 [==============================] - 98s 26ms/step - loss: 427.7783\n",
            "Epoch 42/100\n",
            "3750/3750 [==============================] - 99s 26ms/step - loss: 427.1000\n",
            "Epoch 43/100\n",
            "3750/3750 [==============================] - 98s 26ms/step - loss: 426.4414\n",
            "Epoch 44/100\n",
            "3750/3750 [==============================] - 99s 26ms/step - loss: 425.7935\n",
            "Epoch 45/100\n",
            "3750/3750 [==============================] - 99s 26ms/step - loss: 425.1956\n",
            "Epoch 46/100\n",
            "3750/3750 [==============================] - 98s 26ms/step - loss: 424.5707\n",
            "Epoch 47/100\n",
            "3750/3750 [==============================] - 98s 26ms/step - loss: 423.9929\n",
            "Epoch 48/100\n",
            "3750/3750 [==============================] - 99s 27ms/step - loss: 423.4095\n",
            "Epoch 49/100\n",
            "3750/3750 [==============================] - 99s 26ms/step - loss: 422.8753\n",
            "Epoch 50/100\n",
            "3750/3750 [==============================] - 99s 26ms/step - loss: 422.3354\n",
            "Epoch 51/100\n",
            "3750/3750 [==============================] - 99s 26ms/step - loss: 421.7959\n",
            "Epoch 52/100\n",
            "3750/3750 [==============================] - 99s 27ms/step - loss: 421.3005\n",
            "Epoch 53/100\n",
            "3750/3750 [==============================] - 100s 27ms/step - loss: 420.7768\n",
            "Epoch 54/100\n",
            "3750/3750 [==============================] - 99s 26ms/step - loss: 420.2826\n",
            "Epoch 55/100\n",
            "3750/3750 [==============================] - 99s 26ms/step - loss: 419.8201\n",
            "Epoch 56/100\n",
            "3750/3750 [==============================] - 99s 26ms/step - loss: 419.3449\n",
            "Epoch 57/100\n",
            "3750/3750 [==============================] - 99s 26ms/step - loss: 418.8859\n",
            "Epoch 58/100\n",
            "3750/3750 [==============================] - 99s 26ms/step - loss: 418.4284\n",
            "Epoch 59/100\n",
            "3750/3750 [==============================] - 99s 26ms/step - loss: 417.9731\n",
            "Epoch 60/100\n",
            "3750/3750 [==============================] - 98s 26ms/step - loss: 417.5457\n",
            "Epoch 61/100\n",
            "3750/3750 [==============================] - 99s 26ms/step - loss: 417.1369\n",
            "Epoch 62/100\n",
            "3750/3750 [==============================] - 99s 26ms/step - loss: 416.7192\n",
            "Epoch 63/100\n",
            "3750/3750 [==============================] - 99s 26ms/step - loss: 416.3327\n",
            "Epoch 64/100\n",
            "3750/3750 [==============================] - 98s 26ms/step - loss: 415.9347\n",
            "Epoch 65/100\n",
            "3750/3750 [==============================] - 99s 26ms/step - loss: 415.5214\n",
            "Epoch 66/100\n",
            "3750/3750 [==============================] - 99s 26ms/step - loss: 415.1488\n",
            "Epoch 67/100\n",
            "3750/3750 [==============================] - 99s 26ms/step - loss: 414.7778\n",
            "Epoch 68/100\n",
            "3750/3750 [==============================] - 99s 26ms/step - loss: 414.4043\n",
            "Epoch 69/100\n",
            "3750/3750 [==============================] - 99s 26ms/step - loss: 414.0271\n",
            "Epoch 70/100\n",
            "3750/3750 [==============================] - 99s 27ms/step - loss: 413.6791\n",
            "Epoch 71/100\n",
            "3750/3750 [==============================] - 99s 26ms/step - loss: 413.3350\n",
            "Epoch 72/100\n",
            "3750/3750 [==============================] - 99s 26ms/step - loss: 412.9888\n",
            "Epoch 73/100\n",
            "3750/3750 [==============================] - 99s 26ms/step - loss: 412.6517\n",
            "Epoch 74/100\n",
            "3750/3750 [==============================] - 99s 26ms/step - loss: 412.3305\n",
            "Epoch 75/100\n",
            "3750/3750 [==============================] - 99s 26ms/step - loss: 411.9889\n",
            "Epoch 76/100\n",
            "3750/3750 [==============================] - 99s 26ms/step - loss: 411.6749\n",
            "Epoch 77/100\n",
            "3750/3750 [==============================] - 99s 26ms/step - loss: 411.3537\n",
            "Epoch 78/100\n",
            "3750/3750 [==============================] - 99s 26ms/step - loss: 411.0615\n",
            "Epoch 79/100\n",
            "3750/3750 [==============================] - 99s 26ms/step - loss: 410.7393\n",
            "Epoch 80/100\n",
            "3750/3750 [==============================] - 99s 26ms/step - loss: 410.4547\n",
            "Epoch 81/100\n",
            "3750/3750 [==============================] - 99s 26ms/step - loss: 410.1434\n",
            "Epoch 82/100\n",
            "3750/3750 [==============================] - 98s 26ms/step - loss: 409.8449\n",
            "Epoch 83/100\n",
            "3750/3750 [==============================] - 99s 26ms/step - loss: 409.5518\n",
            "Epoch 84/100\n",
            "3750/3750 [==============================] - 98s 26ms/step - loss: 409.2922\n",
            "Epoch 85/100\n",
            "3750/3750 [==============================] - 99s 26ms/step - loss: 408.9874\n",
            "Epoch 86/100\n",
            "3750/3750 [==============================] - 99s 26ms/step - loss: 408.7435\n",
            "Epoch 87/100\n",
            "3750/3750 [==============================] - 100s 27ms/step - loss: 408.4539\n",
            "Epoch 88/100\n",
            "3750/3750 [==============================] - 99s 26ms/step - loss: 408.1828\n",
            "Epoch 89/100\n",
            "3750/3750 [==============================] - 99s 26ms/step - loss: 407.9132\n",
            "Epoch 90/100\n",
            "3750/3750 [==============================] - 99s 26ms/step - loss: 407.6751\n",
            "Epoch 91/100\n",
            "3750/3750 [==============================] - 99s 26ms/step - loss: 407.4037\n",
            "Epoch 92/100\n",
            "3750/3750 [==============================] - 99s 26ms/step - loss: 407.1587\n",
            "Epoch 93/100\n",
            "3750/3750 [==============================] - 99s 26ms/step - loss: 406.9057\n",
            "Epoch 94/100\n",
            "3750/3750 [==============================] - 99s 26ms/step - loss: 406.6627\n",
            "Epoch 95/100\n",
            "3750/3750 [==============================] - 99s 26ms/step - loss: 406.4146\n",
            "Epoch 96/100\n",
            "3750/3750 [==============================] - 99s 26ms/step - loss: 406.1794\n",
            "Epoch 97/100\n",
            "3750/3750 [==============================] - 98s 26ms/step - loss: 405.9508\n",
            "Epoch 98/100\n",
            "3750/3750 [==============================] - 98s 26ms/step - loss: 405.7018\n",
            "Epoch 99/100\n",
            "3750/3750 [==============================] - 99s 26ms/step - loss: 405.4751\n",
            "Epoch 100/100\n",
            "3750/3750 [==============================] - 99s 26ms/step - loss: 405.2535\n"
          ],
          "name": "stdout"
        },
        {
          "output_type": "execute_result",
          "data": {
            "text/plain": [
              "<tensorflow.python.keras.callbacks.History at 0x7fa39c2e9630>"
            ]
          },
          "metadata": {
            "tags": []
          },
          "execution_count": 30
        }
      ]
    },
    {
      "cell_type": "code",
      "metadata": {
        "id": "wIswO062-wRm"
      },
      "source": [
        "y0 = model.output[0]"
      ],
      "execution_count": 31,
      "outputs": []
    },
    {
      "cell_type": "code",
      "metadata": {
        "colab": {
          "base_uri": "https://localhost:8080/"
        },
        "id": "36GS8lcMmsLG",
        "outputId": "e84cef22-f5d5-4608-d87f-f14b71991f89"
      },
      "source": [
        "X_train_red[0].shape"
      ],
      "execution_count": 37,
      "outputs": [
        {
          "output_type": "execute_result",
          "data": {
            "text/plain": [
              "(20, 20)"
            ]
          },
          "metadata": {
            "tags": []
          },
          "execution_count": 37
        }
      ]
    },
    {
      "cell_type": "code",
      "metadata": {
        "id": "aLwwp7fDTGCO"
      },
      "source": [
        "Y = model.predict(X_train_red)"
      ],
      "execution_count": 38,
      "outputs": []
    },
    {
      "cell_type": "code",
      "metadata": {
        "id": "EFNiDe-fTF-G"
      },
      "source": [
        "index = 1\r\n",
        "reconstructed_y = Y[index].reshape(20,20)"
      ],
      "execution_count": 45,
      "outputs": []
    },
    {
      "cell_type": "code",
      "metadata": {
        "colab": {
          "base_uri": "https://localhost:8080/",
          "height": 37
        },
        "id": "FmaXIQignSPO",
        "outputId": "47998350-4bf2-411a-eb5a-87e9c608c850"
      },
      "source": [
        "cv2_imshow(X_train_red[index])"
      ],
      "execution_count": 46,
      "outputs": [
        {
          "output_type": "display_data",
          "data": {
            "image/png": "[encoded data removed]",
            "text/plain": [
              "<PIL.Image.Image image mode=L size=20x20 at 0x7FA39A8D56D8>"
            ]
          },
          "metadata": {
            "tags": []
          }
        }
      ]
    },
    {
      "cell_type": "code",
      "metadata": {
        "colab": {
          "base_uri": "https://localhost:8080/",
          "height": 37
        },
        "id": "Nx7x3xnznOV4",
        "outputId": "74cdc8d6-cc94-4bb8-8391-6e7df4ee017b"
      },
      "source": [
        "cv2_imshow(reconstructed_y)"
      ],
      "execution_count": 47,
      "outputs": [
        {
          "output_type": "display_data",
          "data": {
            "image/png": "[encoded data removed]",
            "text/plain": [
              "<PIL.Image.Image image mode=L size=20x20 at 0x7FA39A8D5E10>"
            ]
          },
          "metadata": {
            "tags": []
          }
        }
      ]
    },
    {
      "cell_type": "code",
      "metadata": {
        "id": "xT_zvTwhtycm"
      },
      "source": [
        "X_test_red = np.zeros((60000, 20, 20))\r\n",
        "for i in range(len(X_test)):\r\n",
        "  X_test_red[i] = cv2.resize(X_test[i], (20,20))"
      ],
      "execution_count": 89,
      "outputs": []
    },
    {
      "cell_type": "code",
      "metadata": {
        "id": "VS3lXHw-s_4l"
      },
      "source": [
        "Y_check = model.predict(X_test_red)"
      ],
      "execution_count": 90,
      "outputs": []
    },
    {
      "cell_type": "code",
      "metadata": {
        "id": "r5UCPc6Cs_sl"
      },
      "source": [
        "index = 1\r\n",
        "reconstructed_y = Y_check[index].reshape(20,20)"
      ],
      "execution_count": 91,
      "outputs": []
    },
    {
      "cell_type": "code",
      "metadata": {
        "colab": {
          "base_uri": "https://localhost:8080/",
          "height": 37
        },
        "id": "SJkGA5houLX_",
        "outputId": "49dc7b14-8be2-4637-a71d-ade28ae7f8e5"
      },
      "source": [
        "cv2_imshow(X_test_red[index])"
      ],
      "execution_count": 92,
      "outputs": [
        {
          "output_type": "display_data",
          "data": {
            "image/png": "[encoded data removed]",
            "text/plain": [
              "<PIL.Image.Image image mode=L size=20x20 at 0x7FA399F4FB00>"
            ]
          },
          "metadata": {
            "tags": []
          }
        }
      ]
    },
    {
      "cell_type": "code",
      "metadata": {
        "colab": {
          "base_uri": "https://localhost:8080/",
          "height": 37
        },
        "id": "wmV6w1iUuPh5",
        "outputId": "af5e7ea0-4915-4a6f-d4cd-6acd34c42c14"
      },
      "source": [
        "cv2_imshow(reconstructed_y)"
      ],
      "execution_count": 93,
      "outputs": [
        {
          "output_type": "display_data",
          "data": {
            "image/png": "[encoded data removed]",
            "text/plain": [
              "<PIL.Image.Image image mode=L size=20x20 at 0x7FA399F4F6D8>"
            ]
          },
          "metadata": {
            "tags": []
          }
        }
      ]
    },
    {
      "cell_type": "markdown",
      "metadata": {
        "id": "joJQAhv8Sz-o"
      },
      "source": [
        "## ReconNet\r\n",
        "\r\n",
        "*Now that we have a trained compressive senisng matrix,\r\n",
        "   we can use that matrix to get compressed measurements and\r\n",
        "   this time we will use ReconNet which utilizes CNNs to \r\n",
        "   reconstruct original images instead of Fully-Connected layers\r\n",
        "   as in previous model.*"
      ]
    },
    {
      "cell_type": "code",
      "metadata": {
        "id": "eLpRLH47UL_I"
      },
      "source": [
        "from tensorflow.keras.layers import Conv2D, Dense, AveragePooling2D, Input, Reshape\r\n",
        "from tensorflow.keras.models import Model"
      ],
      "execution_count": 66,
      "outputs": []
    },
    {
      "cell_type": "code",
      "metadata": {
        "id": "JJnl3Wq9S2Po"
      },
      "source": [
        "def ReconNet(cs_measurements):\r\n",
        "  x = Dense(400, activation = 'relu')(cs_measurements)\r\n",
        "  x = Reshape((20, 20, 1))(x)\r\n",
        "  x = Conv2D(64, (11,11), padding='same', activation='relu',\r\n",
        "             kernel_initializer='random_normal')(x)\r\n",
        "  x = Conv2D(32, (1,1), padding='same', activation='relu',\r\n",
        "             kernel_initializer='random_normal')(x)\r\n",
        "  x = Conv2D(1, (7,7), padding='same', activation='relu',\r\n",
        "             kernel_initializer='random_normal')(x)\r\n",
        "  x = Conv2D(64, (11,11), padding='same', activation='relu',\r\n",
        "             kernel_initializer='random_normal')(x)\r\n",
        "  x = Conv2D(32, (1,1), padding='same', activation='relu',\r\n",
        "             kernel_initializer='random_normal')(x)\r\n",
        "  output = Conv2D(1, (7,7), padding='same', activation='relu',\r\n",
        "             kernel_initializer='random_normal')(x)\r\n",
        "  return output"
      ],
      "execution_count": 72,
      "outputs": []
    },
    {
      "cell_type": "code",
      "metadata": {
        "id": "1MtlK68Wnt3J"
      },
      "source": [
        "#get weights of the first layer of previous trained model\r\n",
        "w = model.layers[2].get_weights()"
      ],
      "execution_count": 82,
      "outputs": []
    },
    {
      "cell_type": "code",
      "metadata": {
        "id": "LePXCei8oFwK"
      },
      "source": [
        "first_layer = Input(shape = (20, 20))\r\n",
        "second_layer = Flatten()(first_layer)\r\n",
        "#third_layer = Dense(400, activation = 'relu')(second_layer)\r\n",
        "cs_layer = Dense(40, activation = 'relu')(second_layer)\r\n",
        "recon_model = ReconNet(cs_layer)"
      ],
      "execution_count": 78,
      "outputs": []
    },
    {
      "cell_type": "code",
      "metadata": {
        "id": "8UVv8TZwrOqX"
      },
      "source": [
        "model2 = Model(inputs = first_layer, outputs = recon_model)"
      ],
      "execution_count": 79,
      "outputs": []
    },
    {
      "cell_type": "code",
      "metadata": {
        "colab": {
          "base_uri": "https://localhost:8080/"
        },
        "id": "Bd7TImK-rn5O",
        "outputId": "076cca17-5dab-4ce0-9a32-577d0265a843"
      },
      "source": [
        "model2.summary()"
      ],
      "execution_count": 80,
      "outputs": [
        {
          "output_type": "stream",
          "text": [
            "Model: \"model_1\"\n",
            "_________________________________________________________________\n",
            "Layer (type)                 Output Shape              Param #   \n",
            "=================================================================\n",
            "input_6 (InputLayer)         [(None, 20, 20)]          0         \n",
            "_________________________________________________________________\n",
            "flatten_7 (Flatten)          (None, 400)               0         \n",
            "_________________________________________________________________\n",
            "dense_27 (Dense)             (None, 40)                16040     \n",
            "_________________________________________________________________\n",
            "dense_28 (Dense)             (None, 400)               16400     \n",
            "_________________________________________________________________\n",
            "reshape_2 (Reshape)          (None, 20, 20, 1)         0         \n",
            "_________________________________________________________________\n",
            "conv2d_7 (Conv2D)            (None, 20, 20, 64)        7808      \n",
            "_________________________________________________________________\n",
            "conv2d_8 (Conv2D)            (None, 20, 20, 32)        2080      \n",
            "_________________________________________________________________\n",
            "conv2d_9 (Conv2D)            (None, 20, 20, 1)         1569      \n",
            "_________________________________________________________________\n",
            "conv2d_10 (Conv2D)           (None, 20, 20, 64)        7808      \n",
            "_________________________________________________________________\n",
            "conv2d_11 (Conv2D)           (None, 20, 20, 32)        2080      \n",
            "_________________________________________________________________\n",
            "conv2d_12 (Conv2D)           (None, 20, 20, 1)         1569      \n",
            "=================================================================\n",
            "Total params: 55,354\n",
            "Trainable params: 55,354\n",
            "Non-trainable params: 0\n",
            "_________________________________________________________________\n"
          ],
          "name": "stdout"
        }
      ]
    },
    {
      "cell_type": "code",
      "metadata": {
        "id": "9XN-kyxFrpdh"
      },
      "source": [
        "model2.layers[2].set_weights(w)"
      ],
      "execution_count": 83,
      "outputs": []
    },
    {
      "cell_type": "code",
      "metadata": {
        "id": "ZQZfz_KksGmh"
      },
      "source": [
        "model2.layers[2].trainable = False"
      ],
      "execution_count": 84,
      "outputs": []
    },
    {
      "cell_type": "code",
      "metadata": {
        "id": "ZJdvf1HqsWEm"
      },
      "source": [
        "model2.compile(optimizer=Adagrad(learning_rate=0.005), loss= 'mse')"
      ],
      "execution_count": 85,
      "outputs": []
    },
    {
      "cell_type": "code",
      "metadata": {
        "id": "8_446YjesglY"
      },
      "source": [
        "y_train_recon = X_train_red.reshape(60000,20,20,1)"
      ],
      "execution_count": 87,
      "outputs": []
    },
    {
      "cell_type": "code",
      "metadata": {
        "colab": {
          "base_uri": "https://localhost:8080/"
        },
        "id": "8SP2K34Bsuqq",
        "outputId": "5f9b308f-4f34-4b2d-f717-da7853c98e1c"
      },
      "source": [
        "history = model2.fit(X_train_red, y_train_recon, epochs = 20)"
      ],
      "execution_count": 94,
      "outputs": [
        {
          "output_type": "stream",
          "text": [
            "Epoch 1/20\n",
            "1875/1875 [==============================] - 483s 258ms/step - loss: 1444.8824\n",
            "Epoch 2/20\n",
            "1875/1875 [==============================] - 483s 257ms/step - loss: 1321.6982\n",
            "Epoch 3/20\n",
            "1875/1875 [==============================] - 483s 258ms/step - loss: 1253.9779\n",
            "Epoch 4/20\n",
            "1875/1875 [==============================] - 485s 259ms/step - loss: 1208.7560\n",
            "Epoch 5/20\n",
            "1875/1875 [==============================] - 484s 258ms/step - loss: 1175.4229\n",
            "Epoch 6/20\n",
            "1875/1875 [==============================] - 482s 257ms/step - loss: 1149.6223\n",
            "Epoch 7/20\n",
            "1875/1875 [==============================] - 482s 257ms/step - loss: 1128.5186\n",
            "Epoch 8/20\n",
            "1875/1875 [==============================] - 482s 257ms/step - loss: 1111.2919\n",
            "Epoch 9/20\n",
            "1875/1875 [==============================] - 482s 257ms/step - loss: 1096.1576\n",
            "Epoch 10/20\n",
            "1875/1875 [==============================] - 482s 257ms/step - loss: 1083.3235\n",
            "Epoch 11/20\n",
            "1875/1875 [==============================] - 482s 257ms/step - loss: 1071.9188\n",
            "Epoch 12/20\n",
            "1875/1875 [==============================] - 482s 257ms/step - loss: 1061.4163\n",
            "Epoch 13/20\n",
            "1875/1875 [==============================] - 481s 257ms/step - loss: 1052.3047\n",
            "Epoch 14/20\n",
            "1875/1875 [==============================] - 484s 258ms/step - loss: 1043.8909\n",
            "Epoch 15/20\n",
            "1875/1875 [==============================] - 484s 258ms/step - loss: 1036.0431\n",
            "Epoch 16/20\n",
            "1875/1875 [==============================] - 482s 257ms/step - loss: 1029.1863\n",
            "Epoch 17/20\n",
            "1875/1875 [==============================] - 482s 257ms/step - loss: 1022.8514\n",
            "Epoch 18/20\n",
            "1875/1875 [==============================] - 482s 257ms/step - loss: 1016.8077\n",
            "Epoch 19/20\n",
            "1875/1875 [==============================] - 482s 257ms/step - loss: 1011.0191\n",
            "Epoch 20/20\n",
            "1875/1875 [==============================] - 482s 257ms/step - loss: 1006.0414\n"
          ],
          "name": "stdout"
        }
      ]
    },
    {
      "cell_type": "code",
      "metadata": {
        "id": "BP6yc--Qs3-J"
      },
      "source": [
        ""
      ],
      "execution_count": null,
      "outputs": []
    }
  ]
}