{
  "nbformat": 4,
  "nbformat_minor": 0,
  "metadata": {
    "colab": {
      "name": "3D_CNN.ipynb",
      "provenance": []
    },
    "kernelspec": {
      "name": "python3",
      "display_name": "Python 3"
    }
  },
  "cells": [
    {
      "cell_type": "code",
      "metadata": {
        "id": "yTXqDX8vLa93"
      },
      "source": [
        "import os\n",
        "import matplotlib.pyplot as plt\n",
        "import numpy as np\n",
        "import cv2\n",
        "from sklearn.model_selection import train_test_split\n",
        "from sklearn.model_selection import cross_validate\n",
        "from sklearn import preprocessing"
      ],
      "execution_count": null,
      "outputs": []
    },
    {
      "cell_type": "code",
      "metadata": {
        "id": "tX0K6zvpZka2"
      },
      "source": [
        "from keras.preprocessing.image import ImageDataGenerator\n",
        "from keras.models import Sequential\n",
        "from keras.layers.core import Dense, Dropout, Activation, Flatten, Reshape\n",
        "from keras.layers.convolutional import Conv3D, MaxPooling3D, Conv2D, AveragePooling2D, AveragePooling3D\n",
        "from keras.layers import Dense, GlobalAveragePooling3D, GlobalAveragePooling2D\n",
        "from keras.callbacks import EarlyStopping, ModelCheckpoint, LearningRateScheduler, ReduceLROnPlateau\n",
        "from keras.optimizers import SGD, RMSprop, Adadelta\n",
        "from keras.utils import np_utils, generic_utils\n",
        "from keras.layers.normalization import BatchNormalization\n",
        "from keras.layers.convolutional_recurrent import ConvLSTM2D"
      ],
      "execution_count": null,
      "outputs": []
    },
    {
      "cell_type": "code",
      "metadata": {
        "id": "tKLPYXPXapI_"
      },
      "source": [
        "# image specification\n",
        "img_rows, img_cols = 125, 57\n",
        "\n",
        "# training data\n",
        "X_tr = []      # variable to store the entire dataset"
      ],
      "execution_count": null,
      "outputs": []
    },
    {
      "cell_type": "code",
      "metadata": {
        "id": "dPybRafIa5Ls",
        "colab": {
          "base_uri": "https://localhost:8080/"
        },
        "outputId": "b18fd6bc-9316-4001-8d9f-9daf355f585a"
      },
      "source": [
        "from tqdm import tqdm \n",
        "from google.colab.patches import cv2_imshow\n",
        "sub1_t1a1 = os.path.join(\"/content/drive/My Drive/\", \"Subject1Activity1Trial1Camera1\")\n",
        "listing = os.listdir(sub1_t1a1)\n",
        "\n",
        "frames = []\n",
        "i = 0\n",
        "for image in tqdm(listing):\n",
        "  if i<150:\n",
        "    img_path = os.path.join(sub1_t1a1, image)\n",
        "    img = cv2.imread(img_path)\n",
        "    img = cv2.resize(img, (img_rows, img_cols), interpolation = cv2.INTER_AREA)\n",
        "    img = cv2.cvtColor(img, cv2.COLOR_BGR2RGB)\n",
        "    frames.append(img)\n",
        "    i=i+1\n",
        "  else:\n",
        "    break\n",
        "\n",
        "input_img = np.array(frames)\n",
        "print(input_img.shape)\n",
        "ipt = np.rollaxis(np.rollaxis(input_img, 2, 0), 2, 0)\n",
        "print(ipt.shape)\n",
        "ipt = np.rollaxis(ipt, 2, 0)\n",
        "print(ipt.shape)\n",
        "X_tr.append(ipt)\n",
        "print(len(X_tr))"
      ],
      "execution_count": null,
      "outputs": [
        {
          "output_type": "stream",
          "text": [
            " 74%|███████▍  | 150/202 [03:12<01:12,  1.40s/it]"
          ],
          "name": "stderr"
        },
        {
          "output_type": "stream",
          "text": [
            "(150, 57, 125, 3)\n",
            "(57, 125, 150, 3)\n",
            "(150, 57, 125, 3)\n",
            "1\n"
          ],
          "name": "stdout"
        }
      ]
    },
    {
      "cell_type": "code",
      "metadata": {
        "id": "GvY9mqCyk4D_",
        "colab": {
          "base_uri": "https://localhost:8080/"
        },
        "outputId": "ba3f2bdd-4c6f-4f91-e462-37658e508441"
      },
      "source": [
        "print(len(ipt))"
      ],
      "execution_count": null,
      "outputs": [
        {
          "output_type": "stream",
          "text": [
            "150\n"
          ],
          "name": "stdout"
        }
      ]
    },
    {
      "cell_type": "code",
      "metadata": {
        "id": "cj6PxSsck5pM"
      },
      "source": [
        "sub1_t1a2 = os.path.join(\"/content/drive/My Drive/\", \"Subject1Activity2Trial1Camera1\")\n",
        "listing = os.listdir(sub1_t1a2)\n",
        "\n",
        "frames = []\n",
        "i = 0\n",
        "for image in tqdm(listing):\n",
        "  if i < 150:\n",
        "    img_path = os.path.join(sub1_t1a2, image)\n",
        "    img = cv2.imread(img_path)\n",
        "    img = cv2.resize(img, (img_rows, img_cols), interpolation = cv2.INTER_AREA)\n",
        "    img = cv2.cvtColor(img, cv2.COLOR_BGR2RGB)\n",
        "    frames.append(img)\n",
        "    i=i+1\n",
        "  else:\n",
        "    break\n",
        "\n",
        "input_img = np.array(frames)\n",
        "print(input_img.shape)\n",
        "ipt = np.rollaxis(np.rollaxis(input_img, 2, 0), 2, 0)\n",
        "print(ipt.shape)\n",
        "ipt = np.rollaxis(ipt, 2, 0)\n",
        "print(ipt.shape)\n",
        "X_tr.append(ipt)\n",
        "print(len(X_tr))"
      ],
      "execution_count": null,
      "outputs": []
    },
    {
      "cell_type": "code",
      "metadata": {
        "id": "jw2wkuj0DsHz",
        "colab": {
          "base_uri": "https://localhost:8080/"
        },
        "outputId": "2bb5246d-4417-4c22-d403-329f243fcd46"
      },
      "source": [
        "X_tr_array = np.array(X_tr)  # convert frames read into array\n",
        "\n",
        "num_samples = len(X_tr_array)\n",
        "print(num_samples)"
      ],
      "execution_count": null,
      "outputs": [
        {
          "output_type": "stream",
          "text": [
            "2\n"
          ],
          "name": "stdout"
        }
      ]
    },
    {
      "cell_type": "code",
      "metadata": {
        "id": "tVwP3RxPEN85"
      },
      "source": [
        "label = np.ones((num_samples, ), dtype = int)\n",
        "label[0] = 0\n",
        "label[1] = 1"
      ],
      "execution_count": null,
      "outputs": []
    },
    {
      "cell_type": "code",
      "metadata": {
        "id": "S7btOGlREdCK",
        "colab": {
          "base_uri": "https://localhost:8080/"
        },
        "outputId": "066148fd-4cf9-41b6-d51f-f34f015b5b1d"
      },
      "source": [
        "img_depth = 150\n",
        "train_data = [X_tr_array, label]\n",
        "\n",
        "(X_train, y_train) = (train_data[0], train_data[1])\n",
        "print('X_train shape: ', X_train.shape)\n",
        "\n",
        "train_set = np.zeros((num_samples, img_depth, img_cols, img_rows, 3))\n",
        "\n",
        "for h in range(num_samples):\n",
        "  train_set[h][:][:][:] = X_train[h, :, :, :]\n",
        "\n",
        "patch_size = 150  # no. of frames used for each video\n",
        "\n",
        "print(train_set.shape, 'train_samples')"
      ],
      "execution_count": null,
      "outputs": [
        {
          "output_type": "stream",
          "text": [
            "X_train shape:  (2, 150, 57, 125, 3)\n",
            "(2, 150, 57, 125, 3) train_samples\n"
          ],
          "name": "stdout"
        }
      ]
    },
    {
      "cell_type": "code",
      "metadata": {
        "id": "u1MaoQBiFL1Z"
      },
      "source": [
        "nb_classes = 2\n",
        "Y_train = np_utils.to_categorical(y_train, nb_classes)"
      ],
      "execution_count": null,
      "outputs": []
    },
    {
      "cell_type": "code",
      "metadata": {
        "id": "Q7ZI9PdRFutS",
        "colab": {
          "base_uri": "https://localhost:8080/"
        },
        "outputId": "8a5a250e-5f07-4e96-d066-3f13d1b93be2"
      },
      "source": [
        "# pre-processing\n",
        "\n",
        "train_set = train_set.astype('float32')\n",
        "print(np.mean(train_set))\n",
        "train_set -= np.mean(train_set)\n",
        "print(np.max(train_set))\n",
        "train_set /= np.max(train_set)"
      ],
      "execution_count": null,
      "outputs": [
        {
          "output_type": "stream",
          "text": [
            "133.84485\n",
            "121.15515\n"
          ],
          "name": "stdout"
        }
      ]
    },
    {
      "cell_type": "code",
      "metadata": {
        "id": "LGV93Y6NGIXS"
      },
      "source": [
        "# low resolution network\n",
        "weight_decay = 0.005\n",
        "from keras import regularizers\n",
        "model = Sequential()\n",
        "model.add(MaxPooling3D(pool_size = (1,2,2), input_shape=(patch_size, 57, 125, 3)))\n",
        "model.add(Conv3D(8, (5,5,5), activation='relu', kernel_regularizer=regularizers.l2(weight_decay)))\n",
        "model.add(MaxPooling3D(pool_size=(1,2,2)))\n",
        "model.add(Conv3D(32, (3,5,5), activation='relu', kernel_regularizer=regularizers.l2(weight_decay)))\n",
        "model.add(MaxPooling3D(pool_size=(2, 2, 2)))\n",
        "model.add(Conv3D(64,(3,3,5), activation='relu',kernel_regularizer=regularizers.l2(weight_decay)))\n",
        "model.add(MaxPooling3D(pool_size=(1, 1, 4 )))\n",
        "model.add(Flatten())\n",
        "model.add(Dense(512, activation='relu', kernel_regularizer=regularizers.l2(weight_decay)))\n",
        "model.add(Dropout(0.5))\n",
        "model.add(Dense(256, activation='relu',kernel_regularizer=regularizers.l2(weight_decay)))\n",
        "model.add(Dropout(0.5))\n",
        "\n",
        "model.add(Dense(nb_classes,kernel_initializer='normal',kernel_regularizer=regularizers.l2(weight_decay)))\n",
        "\n",
        "model.add(Activation('softmax'))"
      ],
      "execution_count": null,
      "outputs": []
    },
    {
      "cell_type": "code",
      "metadata": {
        "id": "p5zoS8MDIJk9",
        "colab": {
          "base_uri": "https://localhost:8080/"
        },
        "outputId": "823e782c-a476-47e2-e23e-c28a3cedd211"
      },
      "source": [
        "model.summary()"
      ],
      "execution_count": null,
      "outputs": [
        {
          "output_type": "stream",
          "text": [
            "Model: \"sequential\"\n",
            "_________________________________________________________________\n",
            "Layer (type)                 Output Shape              Param #   \n",
            "=================================================================\n",
            "max_pooling3d (MaxPooling3D) (None, 150, 28, 62, 3)    0         \n",
            "_________________________________________________________________\n",
            "conv3d (Conv3D)              (None, 146, 24, 58, 8)    3008      \n",
            "_________________________________________________________________\n",
            "max_pooling3d_1 (MaxPooling3 (None, 146, 12, 29, 8)    0         \n",
            "_________________________________________________________________\n",
            "conv3d_1 (Conv3D)            (None, 144, 8, 25, 32)    19232     \n",
            "_________________________________________________________________\n",
            "max_pooling3d_2 (MaxPooling3 (None, 72, 4, 12, 32)     0         \n",
            "_________________________________________________________________\n",
            "conv3d_2 (Conv3D)            (None, 70, 2, 8, 64)      92224     \n",
            "_________________________________________________________________\n",
            "max_pooling3d_3 (MaxPooling3 (None, 70, 2, 2, 64)      0         \n",
            "_________________________________________________________________\n",
            "flatten (Flatten)            (None, 17920)             0         \n",
            "_________________________________________________________________\n",
            "dense (Dense)                (None, 512)               9175552   \n",
            "_________________________________________________________________\n",
            "dropout (Dropout)            (None, 512)               0         \n",
            "_________________________________________________________________\n",
            "dense_1 (Dense)              (None, 256)               131328    \n",
            "_________________________________________________________________\n",
            "dropout_1 (Dropout)          (None, 256)               0         \n",
            "_________________________________________________________________\n",
            "dense_2 (Dense)              (None, 2)                 514       \n",
            "_________________________________________________________________\n",
            "activation (Activation)      (None, 2)                 0         \n",
            "=================================================================\n",
            "Total params: 9,421,858\n",
            "Trainable params: 9,421,858\n",
            "Non-trainable params: 0\n",
            "_________________________________________________________________\n"
          ],
          "name": "stdout"
        }
      ]
    },
    {
      "cell_type": "code",
      "metadata": {
        "id": "pucbBMBRILsa"
      },
      "source": [
        "import os\n",
        "save_dir = os.path.join(os.getcwd(), 'saved_model')\n",
        "model_name = '3D_CNN_UP_Fall_ver1'\n",
        "if not os.path.isdir(save_dir):\n",
        "  os.makedirs(save_dir)\n",
        "model_path = os.path.join(save_dir, model_name)\n",
        "#checkpoint = ModelCheckpoint(model_path, monitor='val_acc',\n",
        "#                             save_best_only=True, verbose=1)\n",
        "#early_stop = EarlyStopping(monitor='val_loss', patience=50, verbose=1)\n",
        "#lr_reducer = ReduceLROnPlateau(monitor='val_loss', factor=0.05, \n",
        "#                              cooldown=0, patience=10, min_lr=0.005/(2^4),verbose=1)"
      ],
      "execution_count": null,
      "outputs": []
    },
    {
      "cell_type": "code",
      "metadata": {
        "id": "el7DAZpCJmzI"
      },
      "source": [
        "sgd = SGD(lr=0.005,  momentum=0.9, nesterov=False)\n",
        "rms = RMSprop(decay=1e-6)\n",
        "ada = Adadelta(lr=0.1,decay=1e-6)\n",
        "model.compile(loss='categorical_crossentropy', \n",
        "              optimizer=sgd,\n",
        "              #optimizer=ada,\n",
        "              metrics=['acc'])"
      ],
      "execution_count": null,
      "outputs": []
    },
    {
      "cell_type": "code",
      "metadata": {
        "id": "RY63TtxMKOLi",
        "colab": {
          "base_uri": "https://localhost:8080/"
        },
        "outputId": "8099a095-af5a-4b67-ae81-747e12e4bb35"
      },
      "source": [
        "model.fit(train_set, Y_train, epochs = 5)"
      ],
      "execution_count": null,
      "outputs": [
        {
          "output_type": "stream",
          "text": [
            "Epoch 1/5\n",
            "1/1 [==============================] - 0s 2ms/step - loss: 7.8390 - acc: 0.5000\n",
            "Epoch 2/5\n",
            "1/1 [==============================] - 0s 1ms/step - loss: 7.7191 - acc: 0.5000\n",
            "Epoch 3/5\n",
            "1/1 [==============================] - 0s 1ms/step - loss: 7.7090 - acc: 0.0000e+00\n",
            "Epoch 4/5\n",
            "1/1 [==============================] - 0s 1ms/step - loss: 7.6268 - acc: 0.5000\n",
            "Epoch 5/5\n",
            "1/1 [==============================] - 0s 1ms/step - loss: 7.7387 - acc: 0.0000e+00\n"
          ],
          "name": "stdout"
        },
        {
          "output_type": "execute_result",
          "data": {
            "text/plain": [
              "<tensorflow.python.keras.callbacks.History at 0x7f4f0b626a20>"
            ]
          },
          "metadata": {
            "tags": []
          },
          "execution_count": 20
        }
      ]
    }
  ]
}